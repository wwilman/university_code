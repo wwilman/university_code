{
  "nbformat": 4,
  "nbformat_minor": 0,
  "metadata": {
    "colab": {
      "name": "Heart_disease_prediction_Wilman.ipynb",
      "provenance": [],
      "authorship_tag": "ABX9TyPh7b9v1DSsP9YuwKQb3w09",
      "include_colab_link": true
    },
    "kernelspec": {
      "name": "python3",
      "display_name": "Python 3"
    },
    "language_info": {
      "name": "python"
    }
  },
  "cells": [
    {
      "cell_type": "markdown",
      "metadata": {
        "id": "view-in-github",
        "colab_type": "text"
      },
      "source": [
        "<a href=\"https://colab.research.google.com/github/wwilman/university_code/blob/main/Heart_disease_prediction_Wilman.ipynb\" target=\"_parent\"><img src=\"https://colab.research.google.com/assets/colab-badge.svg\" alt=\"Open In Colab\"/></a>"
      ]
    },
    {
      "cell_type": "markdown",
      "metadata": {
        "id": "Hy2hCJXOLF2n"
      },
      "source": [
        "# **PREDICTING HEART DISEASE FROM CLINICAL AND LABORATORIAL DATA USING KNN**"
      ]
    },
    {
      "cell_type": "markdown",
      "metadata": {
        "id": "3X5M-q_iVrmW"
      },
      "source": [
        "# About the data"
      ]
    },
    {
      "cell_type": "markdown",
      "metadata": {
        "id": "FiA3ZK2uXB_Y"
      },
      "source": [
        "Source of the data: \n",
        "[Kaggle](https://www.kaggle.com/ronitf/heart-disease-uci?select=heart.csv)"
      ]
    },
    {
      "cell_type": "markdown",
      "metadata": {
        "id": "bWglwr5RVuxV"
      },
      "source": [
        "## The Atribute information "
      ]
    },
    {
      "cell_type": "markdown",
      "metadata": {
        "id": "y5bR6flPVtmd"
      },
      "source": [
        "1. age\n",
        "2. sex\n",
        "3. cp :chest pain type (4 values)\n",
        "4. trestbs :resting blood pressure\n",
        "5. chol :serum cholestoral in mg/dl \n",
        "6. fbs :fasting blood sugar > 120 mg/dl\n",
        "7. restecg :resting electrocardiographic results (values 0,1,2)\n",
        "8. thalach :\n",
        "9. exang :maximum heart rate achieved\n",
        "exercise induced angina\n",
        "10. oldpeak :ST depression induced by exercise relative to rest\n",
        "11. slope :the slope of the peak exercise ST segment\n",
        "12. ca :number of major vessels (0-3) colored by flourosopy\n",
        "13. thal: 3 = normal; 6 = fixed defect; 7 = reversable defect\n",
        "14. target :0 is no heart disease and 1 is heart disease"
      ]
    },
    {
      "cell_type": "markdown",
      "metadata": {
        "id": "31yCfwJtXe1I"
      },
      "source": [
        "## Aim of the prediction"
      ]
    },
    {
      "cell_type": "markdown",
      "metadata": {
        "id": "GD9M1BdTXikd"
      },
      "source": [
        "Developing a predictive model capable of accurately predicting the presence or absence of heart disease from clinical and laboratory data using a K-Nearest-Neighbors Classifier, based on [Coursera course](https://www.coursera.org/projects/predicting-heart-disease-using-machine-learning)."
      ]
    },
    {
      "cell_type": "markdown",
      "metadata": {
        "id": "_229WcMELI_3"
      },
      "source": [
        "# Introduction"
      ]
    },
    {
      "cell_type": "markdown",
      "metadata": {
        "id": "KhVimzIdLN_l"
      },
      "source": [
        "Importations:"
      ]
    },
    {
      "cell_type": "code",
      "metadata": {
        "id": "TmFAtso2LEum"
      },
      "source": [
        "import pandas as pd\n",
        "import numpy as np\n",
        "import matplotlib.pyplot as plt\n",
        "import seaborn as sns\n",
        "from sklearn.model_selection import train_test_split\n",
        "from sklearn.preprocessing import StandardScaler\n",
        "from sklearn.neighbors import KNeighborsClassifier\n",
        "from sklearn.model_selection import GridSearchCV\n",
        "from sklearn import metrics\n",
        "%matplotlib inline"
      ],
      "execution_count": 2,
      "outputs": []
    },
    {
      "cell_type": "code",
      "metadata": {
        "colab": {
          "base_uri": "https://localhost:8080/",
          "height": 226
        },
        "id": "2YTtjVTPLQPu",
        "outputId": "013f7fde-6fab-486d-fd41-b4f80ce0b200"
      },
      "source": [
        "data = pd.read_csv('heart.csv')\n",
        "data.head()"
      ],
      "execution_count": 3,
      "outputs": [
        {
          "output_type": "execute_result",
          "data": {
            "text/html": [
              "<div>\n",
              "<style scoped>\n",
              "    .dataframe tbody tr th:only-of-type {\n",
              "        vertical-align: middle;\n",
              "    }\n",
              "\n",
              "    .dataframe tbody tr th {\n",
              "        vertical-align: top;\n",
              "    }\n",
              "\n",
              "    .dataframe thead th {\n",
              "        text-align: right;\n",
              "    }\n",
              "</style>\n",
              "<table border=\"1\" class=\"dataframe\">\n",
              "  <thead>\n",
              "    <tr style=\"text-align: right;\">\n",
              "      <th></th>\n",
              "      <th>age</th>\n",
              "      <th>sex</th>\n",
              "      <th>cp</th>\n",
              "      <th>trestbps</th>\n",
              "      <th>chol</th>\n",
              "      <th>fbs</th>\n",
              "      <th>restecg</th>\n",
              "      <th>thalach</th>\n",
              "      <th>exang</th>\n",
              "      <th>oldpeak</th>\n",
              "      <th>slope</th>\n",
              "      <th>ca</th>\n",
              "      <th>thal</th>\n",
              "      <th>target</th>\n",
              "    </tr>\n",
              "  </thead>\n",
              "  <tbody>\n",
              "    <tr>\n",
              "      <th>0</th>\n",
              "      <td>63</td>\n",
              "      <td>1</td>\n",
              "      <td>3</td>\n",
              "      <td>145</td>\n",
              "      <td>233</td>\n",
              "      <td>1</td>\n",
              "      <td>0</td>\n",
              "      <td>150</td>\n",
              "      <td>0</td>\n",
              "      <td>2.3</td>\n",
              "      <td>0</td>\n",
              "      <td>0</td>\n",
              "      <td>1</td>\n",
              "      <td>1</td>\n",
              "    </tr>\n",
              "    <tr>\n",
              "      <th>1</th>\n",
              "      <td>37</td>\n",
              "      <td>1</td>\n",
              "      <td>2</td>\n",
              "      <td>130</td>\n",
              "      <td>250</td>\n",
              "      <td>0</td>\n",
              "      <td>1</td>\n",
              "      <td>187</td>\n",
              "      <td>0</td>\n",
              "      <td>3.5</td>\n",
              "      <td>0</td>\n",
              "      <td>0</td>\n",
              "      <td>2</td>\n",
              "      <td>1</td>\n",
              "    </tr>\n",
              "    <tr>\n",
              "      <th>2</th>\n",
              "      <td>41</td>\n",
              "      <td>0</td>\n",
              "      <td>1</td>\n",
              "      <td>130</td>\n",
              "      <td>204</td>\n",
              "      <td>0</td>\n",
              "      <td>0</td>\n",
              "      <td>172</td>\n",
              "      <td>0</td>\n",
              "      <td>1.4</td>\n",
              "      <td>2</td>\n",
              "      <td>0</td>\n",
              "      <td>2</td>\n",
              "      <td>1</td>\n",
              "    </tr>\n",
              "    <tr>\n",
              "      <th>3</th>\n",
              "      <td>56</td>\n",
              "      <td>1</td>\n",
              "      <td>1</td>\n",
              "      <td>120</td>\n",
              "      <td>236</td>\n",
              "      <td>0</td>\n",
              "      <td>1</td>\n",
              "      <td>178</td>\n",
              "      <td>0</td>\n",
              "      <td>0.8</td>\n",
              "      <td>2</td>\n",
              "      <td>0</td>\n",
              "      <td>2</td>\n",
              "      <td>1</td>\n",
              "    </tr>\n",
              "    <tr>\n",
              "      <th>4</th>\n",
              "      <td>57</td>\n",
              "      <td>0</td>\n",
              "      <td>0</td>\n",
              "      <td>120</td>\n",
              "      <td>354</td>\n",
              "      <td>0</td>\n",
              "      <td>1</td>\n",
              "      <td>163</td>\n",
              "      <td>1</td>\n",
              "      <td>0.6</td>\n",
              "      <td>2</td>\n",
              "      <td>0</td>\n",
              "      <td>2</td>\n",
              "      <td>1</td>\n",
              "    </tr>\n",
              "  </tbody>\n",
              "</table>\n",
              "</div>"
            ],
            "text/plain": [
              "   age  sex  cp  trestbps  chol  fbs  ...  exang  oldpeak  slope  ca  thal  target\n",
              "0   63    1   3       145   233    1  ...      0      2.3      0   0     1       1\n",
              "1   37    1   2       130   250    0  ...      0      3.5      0   0     2       1\n",
              "2   41    0   1       130   204    0  ...      0      1.4      2   0     2       1\n",
              "3   56    1   1       120   236    0  ...      0      0.8      2   0     2       1\n",
              "4   57    0   0       120   354    0  ...      1      0.6      2   0     2       1\n",
              "\n",
              "[5 rows x 14 columns]"
            ]
          },
          "metadata": {
            "tags": []
          },
          "execution_count": 3
        }
      ]
    },
    {
      "cell_type": "code",
      "metadata": {
        "id": "k5ywzHbGM3Fg"
      },
      "source": [
        "Shape:"
      ],
      "execution_count": null,
      "outputs": []
    },
    {
      "cell_type": "code",
      "metadata": {
        "colab": {
          "base_uri": "https://localhost:8080/"
        },
        "id": "HBayPHaEM43g",
        "outputId": "113253cb-de4c-484b-cc36-9166fcdb9bfb"
      },
      "source": [
        "data.shape"
      ],
      "execution_count": 4,
      "outputs": [
        {
          "output_type": "execute_result",
          "data": {
            "text/plain": [
              "(303, 14)"
            ]
          },
          "metadata": {
            "tags": []
          },
          "execution_count": 4
        }
      ]
    },
    {
      "cell_type": "markdown",
      "metadata": {
        "id": "GaAuXHryM5R4"
      },
      "source": [
        "Variable types:"
      ]
    },
    {
      "cell_type": "code",
      "metadata": {
        "colab": {
          "base_uri": "https://localhost:8080/"
        },
        "id": "4kzIUvwPNOqQ",
        "outputId": "fe909e1f-6631-4f41-e068-df7d3ea1d664"
      },
      "source": [
        "data.dtypes"
      ],
      "execution_count": 5,
      "outputs": [
        {
          "output_type": "execute_result",
          "data": {
            "text/plain": [
              "age           int64\n",
              "sex           int64\n",
              "cp            int64\n",
              "trestbps      int64\n",
              "chol          int64\n",
              "fbs           int64\n",
              "restecg       int64\n",
              "thalach       int64\n",
              "exang         int64\n",
              "oldpeak     float64\n",
              "slope         int64\n",
              "ca            int64\n",
              "thal          int64\n",
              "target        int64\n",
              "dtype: object"
            ]
          },
          "metadata": {
            "tags": []
          },
          "execution_count": 5
        }
      ]
    },
    {
      "cell_type": "markdown",
      "metadata": {
        "id": "dP-RYCZ1NOO7"
      },
      "source": [
        "# Exploratory Data Analysis"
      ]
    },
    {
      "cell_type": "markdown",
      "metadata": {
        "id": "WSuKMdijNm94"
      },
      "source": [
        "Outcome variable count:"
      ]
    },
    {
      "cell_type": "code",
      "metadata": {
        "colab": {
          "base_uri": "https://localhost:8080/",
          "height": 400
        },
        "id": "FufjmJ0eNmbZ",
        "outputId": "6dbb9d1c-a5fb-43e6-ad95-b2fad773574b"
      },
      "source": [
        "sns.catplot(x='target', kind='count', palette='ch:.25', data = data)"
      ],
      "execution_count": 6,
      "outputs": [
        {
          "output_type": "execute_result",
          "data": {
            "text/plain": [
              "<seaborn.axisgrid.FacetGrid at 0x7fce6457ec10>"
            ]
          },
          "metadata": {
            "tags": []
          },
          "execution_count": 6
        },
        {
          "output_type": "display_data",
          "data": {
            "image/png": "[encoded data removed]",
            "text/plain": [
              "<Figure size 360x360 with 1 Axes>"
            ]
          },
          "metadata": {
            "tags": [],
            "needs_background": "light"
          }
        }
      ]
    },
    {
      "cell_type": "markdown",
      "metadata": {
        "id": "QWEvxBrpN9v4"
      },
      "source": [
        " Categorical predictive variables:"
      ]
    },
    {
      "cell_type": "markdown",
      "metadata": {
        "id": "y7b1O_boOBFA"
      },
      "source": [
        "sex:"
      ]
    },
    {
      "cell_type": "code",
      "metadata": {
        "colab": {
          "base_uri": "https://localhost:8080/",
          "height": 400
        },
        "id": "wtqIHSTkOB6f",
        "outputId": "96c9cb5a-c114-4f8e-a226-32bdfba301e0"
      },
      "source": [
        "sns.catplot(x='sex',kind='count',hue='target', palette='ch:.25', data=data)"
      ],
      "execution_count": 7,
      "outputs": [
        {
          "output_type": "execute_result",
          "data": {
            "text/plain": [
              "<seaborn.axisgrid.FacetGrid at 0x7fce5ba55050>"
            ]
          },
          "metadata": {
            "tags": []
          },
          "execution_count": 7
        },
        {
          "output_type": "display_data",
          "data": {
            "image/png": "[encoded data removed]",
            "text/plain": [
              "<Figure size 402.375x360 with 1 Axes>"
            ]
          },
          "metadata": {
            "tags": [],
            "needs_background": "light"
          }
        }
      ]
    },
    {
      "cell_type": "markdown",
      "metadata": {
        "id": "k6Y7id86OP50"
      },
      "source": [
        "cp:"
      ]
    },
    {
      "cell_type": "code",
      "metadata": {
        "colab": {
          "base_uri": "https://localhost:8080/",
          "height": 400
        },
        "id": "B2uxHQ0ZOUMS",
        "outputId": "cc5d09a2-5b8c-47c0-9007-8845539065fb"
      },
      "source": [
        "sns.catplot(x='cp',kind='count',hue='target', palette='ch:.25', data=data)"
      ],
      "execution_count": 8,
      "outputs": [
        {
          "output_type": "execute_result",
          "data": {
            "text/plain": [
              "<seaborn.axisgrid.FacetGrid at 0x7fce5bee5cd0>"
            ]
          },
          "metadata": {
            "tags": []
          },
          "execution_count": 8
        },
        {
          "output_type": "display_data",
          "data": {
            "image/png": "[encoded data removed]",
            "text/plain": [
              "<Figure size 402.375x360 with 1 Axes>"
            ]
          },
          "metadata": {
            "tags": [],
            "needs_background": "light"
          }
        }
      ]
    },
    {
      "cell_type": "markdown",
      "metadata": {
        "id": "031HMaUIOXFA"
      },
      "source": [
        "fbs:"
      ]
    },
    {
      "cell_type": "code",
      "metadata": {
        "colab": {
          "base_uri": "https://localhost:8080/",
          "height": 400
        },
        "id": "W7kl3GQVOYbx",
        "outputId": "ce8a2bc5-1e56-4b46-be84-4cfeb3be6479"
      },
      "source": [
        "sns.catplot(x='fbs',kind='count',hue='target', palette='ch:.25', data=data)"
      ],
      "execution_count": 9,
      "outputs": [
        {
          "output_type": "execute_result",
          "data": {
            "text/plain": [
              "<seaborn.axisgrid.FacetGrid at 0x7fce5b733250>"
            ]
          },
          "metadata": {
            "tags": []
          },
          "execution_count": 9
        },
        {
          "output_type": "display_data",
          "data": {
            "image/png": "[encoded data removed]",
            "text/plain": [
              "<Figure size 402.375x360 with 1 Axes>"
            ]
          },
          "metadata": {
            "tags": [],
            "needs_background": "light"
          }
        }
      ]
    },
    {
      "cell_type": "markdown",
      "metadata": {
        "id": "DIwMax2yObZF"
      },
      "source": [
        "restecg:"
      ]
    },
    {
      "cell_type": "code",
      "metadata": {
        "colab": {
          "base_uri": "https://localhost:8080/",
          "height": 400
        },
        "id": "IPNepvnNOc8w",
        "outputId": "82bf8983-2f88-4dca-e925-55c15016a957"
      },
      "source": [
        "sns.catplot(x='restecg',kind='count',hue='target', palette='ch:.25', data=data)"
      ],
      "execution_count": 10,
      "outputs": [
        {
          "output_type": "execute_result",
          "data": {
            "text/plain": [
              "<seaborn.axisgrid.FacetGrid at 0x7fce5a5e4790>"
            ]
          },
          "metadata": {
            "tags": []
          },
          "execution_count": 10
        },
        {
          "output_type": "display_data",
          "data": {
            "image/png": "[encoded data removed]",
            "text/plain": [
              "<Figure size 402.375x360 with 1 Axes>"
            ]
          },
          "metadata": {
            "tags": [],
            "needs_background": "light"
          }
        }
      ]
    },
    {
      "cell_type": "markdown",
      "metadata": {
        "id": "CuuaztkcOldo"
      },
      "source": [
        "exang:"
      ]
    },
    {
      "cell_type": "code",
      "metadata": {
        "colab": {
          "base_uri": "https://localhost:8080/",
          "height": 400
        },
        "id": "vWrlag8eOsMB",
        "outputId": "060a4260-0fc1-4722-d1b0-5639e3f22d6d"
      },
      "source": [
        "sns.catplot(x='exang',kind='count',hue='target', palette='ch:.25', data=data)"
      ],
      "execution_count": 12,
      "outputs": [
        {
          "output_type": "execute_result",
          "data": {
            "text/plain": [
              "<seaborn.axisgrid.FacetGrid at 0x7fce5a561ad0>"
            ]
          },
          "metadata": {
            "tags": []
          },
          "execution_count": 12
        },
        {
          "output_type": "display_data",
          "data": {
            "image/png": "[encoded data removed]",
            "text/plain": [
              "<Figure size 402.375x360 with 1 Axes>"
            ]
          },
          "metadata": {
            "tags": [],
            "needs_background": "light"
          }
        }
      ]
    },
    {
      "cell_type": "markdown",
      "metadata": {
        "id": "zs7Xy6NuOzgO"
      },
      "source": [
        "slope:"
      ]
    },
    {
      "cell_type": "code",
      "metadata": {
        "id": "T9qZVUUWO0Uo"
      },
      "source": [
        "sns.catplot(x='slope',kind='count',hue='target', palette='ch:.25', data=data)"
      ],
      "execution_count": null,
      "outputs": []
    },
    {
      "cell_type": "markdown",
      "metadata": {
        "id": "cOZMo2pIO1ru"
      },
      "source": [
        "ca:"
      ]
    },
    {
      "cell_type": "code",
      "metadata": {
        "id": "Esw3g7_BO2iV"
      },
      "source": [
        "sns.catplot(x='ca',kind='count',hue='target', palette='ch:.25', data=data)"
      ],
      "execution_count": null,
      "outputs": []
    },
    {
      "cell_type": "markdown",
      "metadata": {
        "id": "vuBaTO8GO30Q"
      },
      "source": [
        "thal:"
      ]
    },
    {
      "cell_type": "code",
      "metadata": {
        "id": "u9mtifCcO5gI"
      },
      "source": [
        "sns.catplot(x='thal',kind='count',hue='target', palette='ch:.25', data=data)"
      ],
      "execution_count": null,
      "outputs": []
    },
    {
      "cell_type": "markdown",
      "metadata": {
        "id": "sFDNqXdWO7sd"
      },
      "source": [
        "Distributinal predictive variables:"
      ]
    },
    {
      "cell_type": "code",
      "metadata": {
        "colab": {
          "base_uri": "https://localhost:8080/",
          "height": 300
        },
        "id": "5fa2Z6N_O_Iz",
        "outputId": "37c350ea-ac4d-499d-ba44-a88e3f868331"
      },
      "source": [
        "data[['age','trestbps','chol','thalach','oldpeak']].describe()"
      ],
      "execution_count": 13,
      "outputs": [
        {
          "output_type": "execute_result",
          "data": {
            "text/html": [
              "<div>\n",
              "<style scoped>\n",
              "    .dataframe tbody tr th:only-of-type {\n",
              "        vertical-align: middle;\n",
              "    }\n",
              "\n",
              "    .dataframe tbody tr th {\n",
              "        vertical-align: top;\n",
              "    }\n",
              "\n",
              "    .dataframe thead th {\n",
              "        text-align: right;\n",
              "    }\n",
              "</style>\n",
              "<table border=\"1\" class=\"dataframe\">\n",
              "  <thead>\n",
              "    <tr style=\"text-align: right;\">\n",
              "      <th></th>\n",
              "      <th>age</th>\n",
              "      <th>trestbps</th>\n",
              "      <th>chol</th>\n",
              "      <th>thalach</th>\n",
              "      <th>oldpeak</th>\n",
              "    </tr>\n",
              "  </thead>\n",
              "  <tbody>\n",
              "    <tr>\n",
              "      <th>count</th>\n",
              "      <td>303.000000</td>\n",
              "      <td>303.000000</td>\n",
              "      <td>303.000000</td>\n",
              "      <td>303.000000</td>\n",
              "      <td>303.000000</td>\n",
              "    </tr>\n",
              "    <tr>\n",
              "      <th>mean</th>\n",
              "      <td>54.366337</td>\n",
              "      <td>131.623762</td>\n",
              "      <td>246.264026</td>\n",
              "      <td>149.646865</td>\n",
              "      <td>1.039604</td>\n",
              "    </tr>\n",
              "    <tr>\n",
              "      <th>std</th>\n",
              "      <td>9.082101</td>\n",
              "      <td>17.538143</td>\n",
              "      <td>51.830751</td>\n",
              "      <td>22.905161</td>\n",
              "      <td>1.161075</td>\n",
              "    </tr>\n",
              "    <tr>\n",
              "      <th>min</th>\n",
              "      <td>29.000000</td>\n",
              "      <td>94.000000</td>\n",
              "      <td>126.000000</td>\n",
              "      <td>71.000000</td>\n",
              "      <td>0.000000</td>\n",
              "    </tr>\n",
              "    <tr>\n",
              "      <th>25%</th>\n",
              "      <td>47.500000</td>\n",
              "      <td>120.000000</td>\n",
              "      <td>211.000000</td>\n",
              "      <td>133.500000</td>\n",
              "      <td>0.000000</td>\n",
              "    </tr>\n",
              "    <tr>\n",
              "      <th>50%</th>\n",
              "      <td>55.000000</td>\n",
              "      <td>130.000000</td>\n",
              "      <td>240.000000</td>\n",
              "      <td>153.000000</td>\n",
              "      <td>0.800000</td>\n",
              "    </tr>\n",
              "    <tr>\n",
              "      <th>75%</th>\n",
              "      <td>61.000000</td>\n",
              "      <td>140.000000</td>\n",
              "      <td>274.500000</td>\n",
              "      <td>166.000000</td>\n",
              "      <td>1.600000</td>\n",
              "    </tr>\n",
              "    <tr>\n",
              "      <th>max</th>\n",
              "      <td>77.000000</td>\n",
              "      <td>200.000000</td>\n",
              "      <td>564.000000</td>\n",
              "      <td>202.000000</td>\n",
              "      <td>6.200000</td>\n",
              "    </tr>\n",
              "  </tbody>\n",
              "</table>\n",
              "</div>"
            ],
            "text/plain": [
              "              age    trestbps        chol     thalach     oldpeak\n",
              "count  303.000000  303.000000  303.000000  303.000000  303.000000\n",
              "mean    54.366337  131.623762  246.264026  149.646865    1.039604\n",
              "std      9.082101   17.538143   51.830751   22.905161    1.161075\n",
              "min     29.000000   94.000000  126.000000   71.000000    0.000000\n",
              "25%     47.500000  120.000000  211.000000  133.500000    0.000000\n",
              "50%     55.000000  130.000000  240.000000  153.000000    0.800000\n",
              "75%     61.000000  140.000000  274.500000  166.000000    1.600000\n",
              "max     77.000000  200.000000  564.000000  202.000000    6.200000"
            ]
          },
          "metadata": {
            "tags": []
          },
          "execution_count": 13
        }
      ]
    },
    {
      "cell_type": "code",
      "metadata": {
        "colab": {
          "base_uri": "https://localhost:8080/",
          "height": 386
        },
        "id": "EevqZacmPaO4",
        "outputId": "4a5b4a60-98be-44b7-b4fd-5671fd8773fe"
      },
      "source": [
        "sns.displot(x='age',multiple='stack',hue='target', palette='ch:.25',data=data)"
      ],
      "execution_count": 14,
      "outputs": [
        {
          "output_type": "execute_result",
          "data": {
            "text/plain": [
              "<seaborn.axisgrid.FacetGrid at 0x7fce64315a90>"
            ]
          },
          "metadata": {
            "tags": []
          },
          "execution_count": 14
        },
        {
          "output_type": "display_data",
          "data": {
            "image/png": "[encoded data removed]",
            "text/plain": [
              "<Figure size 402.375x360 with 1 Axes>"
            ]
          },
          "metadata": {
            "tags": [],
            "needs_background": "light"
          }
        }
      ]
    },
    {
      "cell_type": "code",
      "metadata": {
        "colab": {
          "base_uri": "https://localhost:8080/",
          "height": 386
        },
        "id": "tBdqpIaWPalk",
        "outputId": "caf2e361-9097-44ec-c51b-b9b850159572"
      },
      "source": [
        "sns.displot(x='trestbps',multiple='stack',hue='target', palette='ch:.25',data=data)"
      ],
      "execution_count": 15,
      "outputs": [
        {
          "output_type": "execute_result",
          "data": {
            "text/plain": [
              "<seaborn.axisgrid.FacetGrid at 0x7fce55c132d0>"
            ]
          },
          "metadata": {
            "tags": []
          },
          "execution_count": 15
        },
        {
          "output_type": "display_data",
          "data": {
            "image/png": "[encoded data removed]",
            "text/plain": [
              "<Figure size 402.375x360 with 1 Axes>"
            ]
          },
          "metadata": {
            "tags": [],
            "needs_background": "light"
          }
        }
      ]
    },
    {
      "cell_type": "code",
      "metadata": {
        "colab": {
          "base_uri": "https://localhost:8080/",
          "height": 386
        },
        "id": "-VXZ6GlMPytr",
        "outputId": "5f1c1eff-c4fa-4e08-ac4f-0c1796e185f9"
      },
      "source": [
        "sns.displot(x='chol',multiple='stack',hue='target', palette='ch:.25',data=data)"
      ],
      "execution_count": 16,
      "outputs": [
        {
          "output_type": "execute_result",
          "data": {
            "text/plain": [
              "<seaborn.axisgrid.FacetGrid at 0x7fce55b0b190>"
            ]
          },
          "metadata": {
            "tags": []
          },
          "execution_count": 16
        },
        {
          "output_type": "display_data",
          "data": {
            "image/png": "[encoded data removed]",
            "text/plain": [
              "<Figure size 402.375x360 with 1 Axes>"
            ]
          },
          "metadata": {
            "tags": [],
            "needs_background": "light"
          }
        }
      ]
    },
    {
      "cell_type": "code",
      "metadata": {
        "colab": {
          "base_uri": "https://localhost:8080/",
          "height": 386
        },
        "id": "8b557jupP1Ke",
        "outputId": "2f9b25b1-fd31-42e0-bd54-7d315deb0f0c"
      },
      "source": [
        "sns.displot(x='thalach',multiple='stack',hue='target', palette='ch:.25',data=data)"
      ],
      "execution_count": 17,
      "outputs": [
        {
          "output_type": "execute_result",
          "data": {
            "text/plain": [
              "<seaborn.axisgrid.FacetGrid at 0x7fce55b6fb50>"
            ]
          },
          "metadata": {
            "tags": []
          },
          "execution_count": 17
        },
        {
          "output_type": "display_data",
          "data": {
            "image/png": "[encoded data removed]",
            "text/plain": [
              "<Figure size 402.375x360 with 1 Axes>"
            ]
          },
          "metadata": {
            "tags": [],
            "needs_background": "light"
          }
        }
      ]
    },
    {
      "cell_type": "code",
      "metadata": {
        "colab": {
          "base_uri": "https://localhost:8080/",
          "height": 386
        },
        "id": "FpUGQPbXP4l3",
        "outputId": "57db25d6-fb69-4727-8ffb-2ed4bfe075a1"
      },
      "source": [
        "sns.displot(x='oldpeak',multiple='stack',hue='target', palette='ch:.25',data=data)"
      ],
      "execution_count": 18,
      "outputs": [
        {
          "output_type": "execute_result",
          "data": {
            "text/plain": [
              "<seaborn.axisgrid.FacetGrid at 0x7fce559ad410>"
            ]
          },
          "metadata": {
            "tags": []
          },
          "execution_count": 18
        },
        {
          "output_type": "display_data",
          "data": {
            "image/png": "[encoded data removed]",
            "text/plain": [
              "<Figure size 402.375x360 with 1 Axes>"
            ]
          },
          "metadata": {
            "tags": [],
            "needs_background": "light"
          }
        }
      ]
    },
    {
      "cell_type": "markdown",
      "metadata": {
        "id": "i4Oox7LeP-hJ"
      },
      "source": [
        "# Spliting and Pre-processing:"
      ]
    },
    {
      "cell_type": "markdown",
      "metadata": {
        "id": "peAnJlCbQP3h"
      },
      "source": [
        "Defining x_train, x_test, y_train and y_train:"
      ]
    },
    {
      "cell_type": "code",
      "metadata": {
        "id": "l5gXzb9gQXoU"
      },
      "source": [
        "x = data.drop('target', axis=1)\n",
        "y = data['target']\n",
        "x_train, x_test, y_train, y_test = train_test_split(x, y, test_size=0.2, random_state=42 )"
      ],
      "execution_count": 19,
      "outputs": []
    },
    {
      "cell_type": "markdown",
      "metadata": {
        "id": "b_3ks_tPQv_j"
      },
      "source": [
        "Scaling the data by standarize:"
      ]
    },
    {
      "cell_type": "code",
      "metadata": {
        "id": "monSqaNCQ0hW"
      },
      "source": [
        "sc = StandardScaler().fit(x_train)\n",
        "x_train = sc.transform(x_train)\n",
        "x_test = sc.transform(x_test)"
      ],
      "execution_count": 20,
      "outputs": []
    },
    {
      "cell_type": "markdown",
      "metadata": {
        "id": "4EkTkbsqRJR0"
      },
      "source": [
        "# Train the model:"
      ]
    },
    {
      "cell_type": "markdown",
      "metadata": {
        "id": "NsGnn3yXRMKV"
      },
      "source": [
        "Parameters for grid search:"
      ]
    },
    {
      "cell_type": "code",
      "metadata": {
        "id": "G-w60BnPRO1B"
      },
      "source": [
        "knn =KNeighborsClassifier()\n",
        "parameters = {'n_neighbors':[3,5,7,9,11], 'weights':['uniform','distance']}"
      ],
      "execution_count": 24,
      "outputs": []
    },
    {
      "cell_type": "markdown",
      "metadata": {
        "id": "tax_HxBcRsMr"
      },
      "source": [
        "Fiting training data and grid searching:"
      ]
    },
    {
      "cell_type": "code",
      "metadata": {
        "colab": {
          "base_uri": "https://localhost:8080/"
        },
        "id": "hs-_y9HnRwG9",
        "outputId": "95fa23bc-bde9-4057-cb8f-583e0cb7860e"
      },
      "source": [
        "grid = GridSearchCV(knn, parameters, cv=4, scoring='accuracy')\n",
        "grid.fit(x_train, y_train)"
      ],
      "execution_count": 25,
      "outputs": [
        {
          "output_type": "execute_result",
          "data": {
            "text/plain": [
              "GridSearchCV(cv=4, error_score=nan,\n",
              "             estimator=KNeighborsClassifier(algorithm='auto', leaf_size=30,\n",
              "                                            metric='minkowski',\n",
              "                                            metric_params=None, n_jobs=None,\n",
              "                                            n_neighbors=5, p=2,\n",
              "                                            weights='uniform'),\n",
              "             iid='deprecated', n_jobs=None,\n",
              "             param_grid={'n_neighbors': [3, 5, 7, 9, 11],\n",
              "                         'weights': ['uniform', 'distance']},\n",
              "             pre_dispatch='2*n_jobs', refit=True, return_train_score=False,\n",
              "             scoring='accuracy', verbose=0)"
            ]
          },
          "metadata": {
            "tags": []
          },
          "execution_count": 25
        }
      ]
    },
    {
      "cell_type": "code",
      "metadata": {
        "id": "zfJbzd1uSlCY"
      },
      "source": [
        "Displaying best parameters:"
      ],
      "execution_count": null,
      "outputs": []
    },
    {
      "cell_type": "code",
      "metadata": {
        "colab": {
          "base_uri": "https://localhost:8080/"
        },
        "id": "LPaJF95eSoDh",
        "outputId": "c8b9667d-4a31-4894-ef09-e8f4c53bae0a"
      },
      "source": [
        "print(grid.best_params_)"
      ],
      "execution_count": 26,
      "outputs": [
        {
          "output_type": "stream",
          "text": [
            "{'n_neighbors': 5, 'weights': 'uniform'}\n"
          ],
          "name": "stdout"
        }
      ]
    },
    {
      "cell_type": "code",
      "metadata": {
        "id": "vNLN9UE9SrPB"
      },
      "source": [
        "Picking the best model:"
      ],
      "execution_count": null,
      "outputs": []
    },
    {
      "cell_type": "code",
      "metadata": {
        "id": "w8FJMZLQSuVk"
      },
      "source": [
        "model = grid.best_estimator_"
      ],
      "execution_count": 27,
      "outputs": []
    },
    {
      "cell_type": "markdown",
      "metadata": {
        "id": "21m4ijJ8S0HQ"
      },
      "source": [
        "# Evaluation of the model:"
      ]
    },
    {
      "cell_type": "markdown",
      "metadata": {
        "id": "nE0CsjbjS3oz"
      },
      "source": [
        "Model score on the data:"
      ]
    },
    {
      "cell_type": "code",
      "metadata": {
        "colab": {
          "base_uri": "https://localhost:8080/"
        },
        "id": "YPyyPBmzTAbA",
        "outputId": "0821852a-4dff-4524-8217-377571f8b245"
      },
      "source": [
        "model.score(x_test,y_test)"
      ],
      "execution_count": 28,
      "outputs": [
        {
          "output_type": "execute_result",
          "data": {
            "text/plain": [
              "0.9016393442622951"
            ]
          },
          "metadata": {
            "tags": []
          },
          "execution_count": 28
        }
      ]
    },
    {
      "cell_type": "markdown",
      "metadata": {
        "id": "2VgB5bqhTGMB"
      },
      "source": [
        "Confusion matrix:"
      ]
    },
    {
      "cell_type": "code",
      "metadata": {
        "colab": {
          "base_uri": "https://localhost:8080/",
          "height": 265
        },
        "id": "79jK8OzzTH0N",
        "outputId": "5cd28c8f-d4da-481c-a7d2-4252f57d0b7f"
      },
      "source": [
        "predictions = model.predict(x_test)\n",
        "cm = metrics.confusion_matrix(y_test, predictions)\n",
        "cm = pd.DataFrame(cm)\n",
        "sns.heatmap(cm, annot=True)\n",
        "plt.show()"
      ],
      "execution_count": 29,
      "outputs": [
        {
          "output_type": "display_data",
          "data": {
            "image/png": "[encoded data removed]",
            "text/plain": [
              "<Figure size 432x288 with 2 Axes>"
            ]
          },
          "metadata": {
            "tags": [],
            "needs_background": "light"
          }
        }
      ]
    },
    {
      "cell_type": "markdown",
      "metadata": {
        "id": "t9OthxJfTfNW"
      },
      "source": [
        "Calculation of sensivity, specificity, PPV and NPV:"
      ]
    },
    {
      "cell_type": "code",
      "metadata": {
        "id": "51KNToSrTYJR"
      },
      "source": [
        "TP = 28\n",
        "FP = 2\n",
        "TN = 27\n",
        "FN = 4\n",
        "sensitivity = TP / (TP + FN)*100\n",
        "specificity = TN / (TN + FP)*100\n",
        "ppv = TP/ (TP + FP)* 100\n",
        "npv = TN/ (TN + FN)*100"
      ],
      "execution_count": 30,
      "outputs": []
    },
    {
      "cell_type": "code",
      "metadata": {
        "colab": {
          "base_uri": "https://localhost:8080/"
        },
        "id": "LpmaBzLpT7Qx",
        "outputId": "85bd2415-27bf-406d-e9ad-0c2e352b26e2"
      },
      "source": [
        "print('Sensitivity:', sensitivity,'% ','Specificity:', specificity,'% ','positive predictive value:',ppv,'% ','negative predictive value:',npv,'%' )"
      ],
      "execution_count": 31,
      "outputs": [
        {
          "output_type": "stream",
          "text": [
            "Sensitivity: 87.5 %  Specificity: 93.10344827586206 %  positive predictive value: 93.33333333333333 %  negative predictive value: 87.09677419354838 %\n"
          ],
          "name": "stdout"
        }
      ]
    },
    {
      "cell_type": "markdown",
      "metadata": {
        "id": "zC1i7IZ-UEkx"
      },
      "source": [
        "AUC score:"
      ]
    },
    {
      "cell_type": "code",
      "metadata": {
        "colab": {
          "base_uri": "https://localhost:8080/"
        },
        "id": "-6I4eoiIUG0M",
        "outputId": "436fd5b0-d476-4bc8-e565-37d670878330"
      },
      "source": [
        "probs = model.predict_proba(x_test)[:,1]\n",
        "auc = metrics.roc_auc_score(y_test, probs)\n",
        "print(auc)"
      ],
      "execution_count": 33,
      "outputs": [
        {
          "output_type": "stream",
          "text": [
            "0.9154094827586208\n"
          ],
          "name": "stdout"
        }
      ]
    },
    {
      "cell_type": "markdown",
      "metadata": {
        "id": "Z2rP5mxYUHJA"
      },
      "source": [
        "ROC curve:"
      ]
    },
    {
      "cell_type": "code",
      "metadata": {
        "colab": {
          "base_uri": "https://localhost:8080/",
          "height": 265
        },
        "id": "UvctPeHZUghL",
        "outputId": "ca688b47-e4a2-411d-b2ed-a48ea1788acb"
      },
      "source": [
        "fpr, tpr, _ = metrics.roc_curve(y_test, probs)\n",
        "plt.figure()\n",
        "plt.grid()\n",
        "plt.plot(fpr, tpr)\n",
        "plt.plot([0,1],[0,1])\n",
        "plt.show()"
      ],
      "execution_count": 35,
      "outputs": [
        {
          "output_type": "display_data",
          "data": {
            "image/png": "[encoded data removed]",
            "text/plain": [
              "<Figure size 432x288 with 1 Axes>"
            ]
          },
          "metadata": {
            "tags": [],
            "needs_background": "light"
          }
        }
      ]
    }
  ]
}